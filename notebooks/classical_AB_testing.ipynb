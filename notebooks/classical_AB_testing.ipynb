{
 "cells": [
  {
   "cell_type": "markdown",
   "source": [
    "# Classical AB Testing"
   ],
   "metadata": {}
  },
  {
   "cell_type": "code",
   "execution_count": 1,
   "source": [
    "#Importing Libraries\r\n",
    "import numpy as np\r\n",
    "import scipy.stats as stats \r\n",
    "import pandas as pd\r\n",
    "import seaborn as sns\r\n",
    "import matplotlib.pyplot as plt\r\n",
    "from statsmodels.stats.proportion import proportions_ztest, proportion_confint\r\n",
    "import IPython"
   ],
   "outputs": [],
   "metadata": {}
  },
  {
   "cell_type": "code",
   "execution_count": 2,
   "source": [
    "#Configuring Notebook settings\r\n",
    "pd.set_option('display.float_format', '{:.3f}'.format)\r\n",
    "pd.set_option('max_column', None)"
   ],
   "outputs": [],
   "metadata": {}
  },
  {
   "cell_type": "markdown",
   "source": [
    "## Data Loading and Preparation "
   ],
   "metadata": {}
  },
  {
   "cell_type": "code",
   "execution_count": 3,
   "source": [
    "#Importing the collected Data\r\n",
    "file_name = '../data/AdSmartABdata.csv'\r\n",
    "collected_data = pd.read_csv(file_name)"
   ],
   "outputs": [],
   "metadata": {}
  },
  {
   "cell_type": "markdown",
   "source": [
    "## Separating the Answered Users"
   ],
   "metadata": {}
  },
  {
   "cell_type": "code",
   "execution_count": 4,
   "source": [
    "#Users who either answered yes or no\r\n",
    "answered_df = collected_data.copy(deep=True)\r\n",
    "answered_df = answered_df[answered_df['yes'] == 1].append(answered_df[answered_df['no'] == 1])\r\n"
   ],
   "outputs": [],
   "metadata": {}
  },
  {
   "cell_type": "code",
   "execution_count": 5,
   "source": [
    "# Identifying the control group\r\n",
    "control_df = answered_df[answered_df['experiment'] == 'control']"
   ],
   "outputs": [],
   "metadata": {}
  },
  {
   "cell_type": "code",
   "execution_count": 6,
   "source": [
    "# Identifying the exposed group\r\n",
    "exposed_df = answered_df[answered_df['experiment'] == 'exposed']"
   ],
   "outputs": [],
   "metadata": {}
  },
  {
   "cell_type": "code",
   "execution_count": 7,
   "source": [
    "# Forming a combined DataFrame substituting the yes and no column to response and having only 1 and 0 as values where 1 translates to a yes and 0 to no\r\n",
    "#All users who answered yes\r\n",
    "all_yes_df = control_df[control_df['yes'] == 1].append(exposed_df[exposed_df['yes'] == 1])\r\n",
    "all_yes_df = all_yes_df.drop(['yes','no'], axis = 1)\r\n",
    "all_yes_df['response'] = 1\r\n",
    "#All users who answered no\r\n",
    "all_no_df = control_df[control_df['no'] == 1].append(exposed_df[exposed_df['no'] == 1])\r\n",
    "all_no_df = all_no_df.drop(['yes','no'], axis = 1)\r\n",
    "all_no_df['response'] = 0\r\n",
    "#Final Combined dataframe will be\r\n",
    "combined_df = all_yes_df.append(all_no_df)\r\n",
    "combined_df = combined_df.sample(frac=1).reset_index(drop=True)\r\n",
    "combined_df.head(5)"
   ],
   "outputs": [
    {
     "output_type": "execute_result",
     "data": {
      "text/plain": [
       "                             auction_id experiment        date  hour  \\\n",
       "0  5b3dd0c2-8faf-4f92-b704-b6e44b307149    exposed  2020-07-04    23   \n",
       "1  78a601bc-d74c-43fe-b193-885eaa9b2149    control  2020-07-03    15   \n",
       "2  a6bebacb-e756-4bd9-be43-15cf04e79dbb    control  2020-07-04     8   \n",
       "3  2a0fd940-3857-4618-be52-d215c54931e4    control  2020-07-03    15   \n",
       "4  5e7c9d3b-1a50-48dc-9792-508acb0020bc    control  2020-07-10    14   \n",
       "\n",
       "          device_make  platform_os        browser  response  \n",
       "0  Generic Smartphone            6  Chrome Mobile         1  \n",
       "1  Generic Smartphone            6  Chrome Mobile         1  \n",
       "2  Generic Smartphone            6  Chrome Mobile         1  \n",
       "3  Generic Smartphone            6  Chrome Mobile         1  \n",
       "4  Generic Smartphone            6  Chrome Mobile         0  "
      ],
      "text/html": [
       "<div>\n",
       "<style scoped>\n",
       "    .dataframe tbody tr th:only-of-type {\n",
       "        vertical-align: middle;\n",
       "    }\n",
       "\n",
       "    .dataframe tbody tr th {\n",
       "        vertical-align: top;\n",
       "    }\n",
       "\n",
       "    .dataframe thead th {\n",
       "        text-align: right;\n",
       "    }\n",
       "</style>\n",
       "<table border=\"1\" class=\"dataframe\">\n",
       "  <thead>\n",
       "    <tr style=\"text-align: right;\">\n",
       "      <th></th>\n",
       "      <th>auction_id</th>\n",
       "      <th>experiment</th>\n",
       "      <th>date</th>\n",
       "      <th>hour</th>\n",
       "      <th>device_make</th>\n",
       "      <th>platform_os</th>\n",
       "      <th>browser</th>\n",
       "      <th>response</th>\n",
       "    </tr>\n",
       "  </thead>\n",
       "  <tbody>\n",
       "    <tr>\n",
       "      <th>0</th>\n",
       "      <td>5b3dd0c2-8faf-4f92-b704-b6e44b307149</td>\n",
       "      <td>exposed</td>\n",
       "      <td>2020-07-04</td>\n",
       "      <td>23</td>\n",
       "      <td>Generic Smartphone</td>\n",
       "      <td>6</td>\n",
       "      <td>Chrome Mobile</td>\n",
       "      <td>1</td>\n",
       "    </tr>\n",
       "    <tr>\n",
       "      <th>1</th>\n",
       "      <td>78a601bc-d74c-43fe-b193-885eaa9b2149</td>\n",
       "      <td>control</td>\n",
       "      <td>2020-07-03</td>\n",
       "      <td>15</td>\n",
       "      <td>Generic Smartphone</td>\n",
       "      <td>6</td>\n",
       "      <td>Chrome Mobile</td>\n",
       "      <td>1</td>\n",
       "    </tr>\n",
       "    <tr>\n",
       "      <th>2</th>\n",
       "      <td>a6bebacb-e756-4bd9-be43-15cf04e79dbb</td>\n",
       "      <td>control</td>\n",
       "      <td>2020-07-04</td>\n",
       "      <td>8</td>\n",
       "      <td>Generic Smartphone</td>\n",
       "      <td>6</td>\n",
       "      <td>Chrome Mobile</td>\n",
       "      <td>1</td>\n",
       "    </tr>\n",
       "    <tr>\n",
       "      <th>3</th>\n",
       "      <td>2a0fd940-3857-4618-be52-d215c54931e4</td>\n",
       "      <td>control</td>\n",
       "      <td>2020-07-03</td>\n",
       "      <td>15</td>\n",
       "      <td>Generic Smartphone</td>\n",
       "      <td>6</td>\n",
       "      <td>Chrome Mobile</td>\n",
       "      <td>1</td>\n",
       "    </tr>\n",
       "    <tr>\n",
       "      <th>4</th>\n",
       "      <td>5e7c9d3b-1a50-48dc-9792-508acb0020bc</td>\n",
       "      <td>control</td>\n",
       "      <td>2020-07-10</td>\n",
       "      <td>14</td>\n",
       "      <td>Generic Smartphone</td>\n",
       "      <td>6</td>\n",
       "      <td>Chrome Mobile</td>\n",
       "      <td>0</td>\n",
       "    </tr>\n",
       "  </tbody>\n",
       "</table>\n",
       "</div>"
      ]
     },
     "metadata": {},
     "execution_count": 7
    }
   ],
   "metadata": {}
  },
  {
   "cell_type": "markdown",
   "source": [
    "## Testing"
   ],
   "metadata": {}
  },
  {
   "cell_type": "markdown",
   "source": [
    "### Defining our Experiment"
   ],
   "metadata": {}
  },
  {
   "cell_type": "markdown",
   "source": [
    "#### Hypothesis"
   ],
   "metadata": {}
  },
  {
   "cell_type": "markdown",
   "source": [
    "Null Hypothesis: Users who saw the new Ad created by SmartAd dont show no difference in responding to the BIO to the once who saw a static Ad\r\n",
    "HypothesisL Users who saw the new Ad created by SmartAd respond to the BIO quesionare better than users who saw a static Ad"
   ],
   "metadata": {}
  },
  {
   "cell_type": "markdown",
   "source": [
    "Given that we don’t know if the new design will perform better or worse (or the same?) as our current design, we choose a two-tailed test:\r\n",
    "- Hₒ: p = pₒ\r\n",
    "- Hₐ: p ≠ pₒ\r\n",
    "where p and pₒ stand for the conversion rate of the new and old design, respectively. \r\n",
    "We set a confidence level of 95%(1 — α):\r\n",
    "- α = 0.05"
   ],
   "metadata": {}
  },
  {
   "cell_type": "markdown",
   "source": [
    "#### Variables"
   ],
   "metadata": {}
  },
  {
   "cell_type": "markdown",
   "source": [
    "Independent Variables:\r\n",
    "- A control group - They'll be shown the old design\r\n",
    "- A exposed group - They'll be shown the new design"
   ],
   "metadata": {}
  },
  {
   "cell_type": "markdown",
   "source": [
    "Dependent Variable:\r\n",
    "- Response:\r\n",
    "  - 0, indicating the user choose No\r\n",
    "  - 1, indicating the user choose Yes"
   ],
   "metadata": {}
  },
  {
   "cell_type": "markdown",
   "source": [
    "#### Chossing Sample size"
   ],
   "metadata": {}
  },
  {
   "cell_type": "markdown",
   "source": [
    "- We can't choose our own sample because we are already given a sample.\r\n",
    "- We set our Statistical Power = 0.8 or 80% thus B(Beta) = 0.2 or 20%"
   ],
   "metadata": {}
  },
  {
   "cell_type": "markdown",
   "source": [
    "#### Data Preparation"
   ],
   "metadata": {}
  },
  {
   "cell_type": "markdown",
   "source": [
    "- Data is already combined and prepared as seen in the beginning of the file"
   ],
   "metadata": {}
  },
  {
   "cell_type": "code",
   "execution_count": 8,
   "source": [
    "# Check Null Values\r\n",
    "combined_df.info()"
   ],
   "outputs": [
    {
     "output_type": "stream",
     "name": "stdout",
     "text": [
      "<class 'pandas.core.frame.DataFrame'>\n",
      "RangeIndex: 1243 entries, 0 to 1242\n",
      "Data columns (total 8 columns):\n",
      " #   Column       Non-Null Count  Dtype \n",
      "---  ------       --------------  ----- \n",
      " 0   auction_id   1243 non-null   object\n",
      " 1   experiment   1243 non-null   object\n",
      " 2   date         1243 non-null   object\n",
      " 3   hour         1243 non-null   int64 \n",
      " 4   device_make  1243 non-null   object\n",
      " 5   platform_os  1243 non-null   int64 \n",
      " 6   browser      1243 non-null   object\n",
      " 7   response     1243 non-null   int64 \n",
      "dtypes: int64(3), object(5)\n",
      "memory usage: 77.8+ KB\n"
     ]
    }
   ],
   "metadata": {}
  },
  {
   "cell_type": "code",
   "execution_count": 9,
   "source": [
    "# Check Repeted user responses\r\n",
    "number_of_users = combined_df.auction_id.unique()\r\n",
    "# Number of users must be equal to row size of the collected data\r\n",
    "print(f'The data has {combined_df.shape[0] - len(number_of_users)} repeated users.')"
   ],
   "outputs": [
    {
     "output_type": "stream",
     "name": "stdout",
     "text": [
      "The data has 0 repeated users.\n"
     ]
    }
   ],
   "metadata": {}
  },
  {
   "cell_type": "markdown",
   "source": [
    "### Identifying Conversion Rates"
   ],
   "metadata": {}
  },
  {
   "cell_type": "code",
   "execution_count": 10,
   "source": [
    "# Grouping the dataframe by experiment column and then get response\r\n",
    "conversion_rates = combined_df.groupby('experiment')['response']\r\n",
    "\r\n",
    "#defining methods to generate the standard deviation and standard error of mean\r\n",
    "std_p = lambda x: np.std(x, ddof=0)\r\n",
    "se_p = lambda x: stats.sem(x, ddof=0)\r\n",
    "\r\n",
    "\r\n",
    "conversion_rates = conversion_rates.agg([np.mean, std_p, se_p])\r\n",
    "conversion_rates.columns = ['conversion_rate', 'std_deviation', 'std_error']\r\n",
    "print(pd.DataFrame(conversion_rates))"
   ],
   "outputs": [
    {
     "output_type": "stream",
     "name": "stdout",
     "text": [
      "            conversion_rate  std_deviation  std_error\n",
      "experiment                                           \n",
      "control               0.451          0.498      0.021\n",
      "exposed               0.469          0.499      0.019\n"
     ]
    }
   ],
   "metadata": {}
  },
  {
   "cell_type": "markdown",
   "source": [
    "The Ads performed similary, with our new SmartAd performing slightly better. We have 45.1% on our control group while we have 46.9% on our exposed group."
   ],
   "metadata": {}
  },
  {
   "cell_type": "markdown",
   "source": [
    "#### Plotting the controlled vs treatment group response"
   ],
   "metadata": {}
  },
  {
   "cell_type": "code",
   "execution_count": 11,
   "source": [
    "plt.figure(figsize=(10,6))\r\n",
    "sns.barplot(x=combined_df['experiment'], y=combined_df['response'], ci=False)\r\n",
    "plt.title('Conversion Rate by Group')\r\n",
    "plt.xlabel('Experiment Type')\r\n",
    "plt.ylabel('Response (Proportion)')"
   ],
   "outputs": [
    {
     "output_type": "execute_result",
     "data": {
      "text/plain": [
       "Text(0, 0.5, 'Response (Proportion)')"
      ]
     },
     "metadata": {},
     "execution_count": 11
    },
    {
     "output_type": "display_data",
     "data": {
      "text/plain": [
       "<Figure size 720x432 with 1 Axes>"
      ],
      "image/png": "[encoded data removed]"
     },
     "metadata": {
      "needs_background": "light"
     }
    }
   ],
   "metadata": {}
  },
  {
   "cell_type": "markdown",
   "source": [
    "### Testing the Hypothesis"
   ],
   "metadata": {}
  },
  {
   "cell_type": "code",
   "execution_count": 12,
   "source": [
    "#Defining the control group results\r\n",
    "control_results = combined_df[combined_df['experiment'] == 'control']['response']\r\n",
    "#Defining the exposed group results\r\n",
    "exposed_results = combined_df[combined_df['experiment'] == 'exposed']['response']"
   ],
   "outputs": [],
   "metadata": {}
  },
  {
   "cell_type": "code",
   "execution_count": 13,
   "source": [
    "#Identifying counts, success and nob list\r\n",
    "n_con = control_results.count()\r\n",
    "n_treat = exposed_results.count()\r\n",
    "successes = [control_results.sum(), exposed_results.sum()]\r\n",
    "nobs = [n_con, n_treat]"
   ],
   "outputs": [],
   "metadata": {}
  },
  {
   "cell_type": "code",
   "execution_count": 14,
   "source": [
    "#Running a z-test\r\n",
    "z_stat, pval = proportions_ztest(successes, nobs=nobs)\r\n",
    "#Getting the lower and upper bounds\r\n",
    "(lower_con, lower_treat), (upper_con, upper_treat) = proportion_confint(successes, nobs=nobs, alpha=0.5)"
   ],
   "outputs": [],
   "metadata": {}
  },
  {
   "cell_type": "code",
   "execution_count": 15,
   "source": [
    "#Printing calculated results\r\n",
    "print(f'z-statistic: {z_stat:.3f}')\r\n",
    "print(f'p-value: {pval:.3f}')\r\n",
    "print(f'ci 95% for control group: [{lower_con:.2%},{upper_con:.2%}]')\r\n",
    "print(f'ci 95% for treatment group: [{lower_treat:.2%},{upper_treat:.2%}]')"
   ],
   "outputs": [
    {
     "output_type": "stream",
     "name": "stdout",
     "text": [
      "z-statistic: -0.646\n",
      "p-value: 0.518\n",
      "ci 95% for control group: [43.66%,46.44%]\n",
      "ci 95% for treatment group: [45.57%,48.19%]\n"
     ]
    }
   ],
   "metadata": {}
  },
  {
   "cell_type": "markdown",
   "source": [
    "### Conclusion"
   ],
   "metadata": {}
  },
  {
   "cell_type": "markdown",
   "source": [
    "Since our p-value=0.518 is way above our α=0.05 threshold, we cannot reject the Null hypothesis Hₒ, which means that our new design did not perform significantly different or better than our old one."
   ],
   "metadata": {}
  }
 ],
 "metadata": {
  "orig_nbformat": 4,
  "language_info": {
   "name": "python",
   "version": "3.8.4",
   "mimetype": "text/x-python",
   "codemirror_mode": {
    "name": "ipython",
    "version": 3
   },
   "pygments_lexer": "ipython3",
   "nbconvert_exporter": "python",
   "file_extension": ".py"
  },
  "kernelspec": {
   "name": "python3",
   "display_name": "Python 3.8.4 64-bit"
  },
  "interpreter": {
   "hash": "2db524e06e9f5f4ffedc911c917cb75e12dbc923643829bf417064a77eb14d37"
  }
 },
 "nbformat": 4,
 "nbformat_minor": 2
}