{
 "cells": [
  {
   "cell_type": "markdown",
   "source": [
    "# Classical AB Testing"
   ],
   "metadata": {}
  },
  {
   "cell_type": "code",
   "execution_count": 1,
   "source": [
    "#Importing Libraries\r\n",
    "import sys\r\n",
    "import os\r\n",
    "import numpy as np\r\n",
    "import scipy.stats as stats \r\n",
    "import pandas as pd\r\n",
    "import seaborn as sns\r\n",
    "import matplotlib.pyplot as plt\r\n",
    "from statsmodels.stats.proportion import proportions_ztest, proportion_confint\r\n"
   ],
   "outputs": [],
   "metadata": {}
  },
  {
   "cell_type": "code",
   "execution_count": 2,
   "source": [
    "#importing local scripts\r\n",
    "#Adding scripts path\r\n",
    "sys.path.append(os.path.abspath(os.path.join('..')))\r\n",
    "#importing data_manipulator script\r\n",
    "from scripts.data_manipulator import *\r\n",
    "from scripts.classic_ab_imp import *"
   ],
   "outputs": [],
   "metadata": {}
  },
  {
   "cell_type": "code",
   "execution_count": 3,
   "source": [
    "#Configuring Notebook settings\r\n",
    "pd.set_option('display.float_format', '{:.3f}'.format)\r\n",
    "pd.set_option('max_column', None)"
   ],
   "outputs": [],
   "metadata": {}
  },
  {
   "cell_type": "markdown",
   "source": [
    "## Data Loading and Preparation "
   ],
   "metadata": {}
  },
  {
   "cell_type": "code",
   "execution_count": 4,
   "source": [
    "#Importing the collected Data\r\n",
    "file_name = '../data/AdSmartABdata.csv'\r\n",
    "collected_data = pd.read_csv(file_name)"
   ],
   "outputs": [],
   "metadata": {}
  },
  {
   "cell_type": "markdown",
   "source": [
    "## Separating the Answered Users"
   ],
   "metadata": {}
  },
  {
   "cell_type": "code",
   "execution_count": 5,
   "source": [
    "#Users who either answered yes or no\r\n",
    "answered_df = collected_data.copy(deep=True)\r\n",
    "answered_df = get_answered(df=answered_df,column1='yes', column2='no')\r\n",
    "answered_df.head(5)"
   ],
   "outputs": [
    {
     "output_type": "execute_result",
     "data": {
      "text/plain": [
       "                              auction_id experiment        date  hour  \\\n",
       "16  008aafdf-deef-4482-8fec-d98e3da054da    exposed  2020-07-04    16   \n",
       "23  00b6fadb-10bd-49e3-a778-290da82f7a8d    control  2020-07-08     4   \n",
       "45  018af862-486e-4da1-a85b-71872120e57c    control  2020-07-03    15   \n",
       "65  023ec7b5-cb8f-49a5-995f-e0d7c2f702e5    exposed  2020-07-09    13   \n",
       "89  02efdb70-8596-4f3f-b0b2-b91e194f61f7    exposed  2020-07-05     6   \n",
       "\n",
       "           device_make  platform_os        browser  yes  no  \n",
       "16  Generic Smartphone            6  Chrome Mobile    1   0  \n",
       "23    Samsung SM-A202F            6       Facebook    1   0  \n",
       "45  Generic Smartphone            6  Chrome Mobile    1   0  \n",
       "65    Samsung SM-G935F            6       Facebook    1   0  \n",
       "89  Generic Smartphone            6  Chrome Mobile    1   0  "
      ],
      "text/html": [
       "<div>\n",
       "<style scoped>\n",
       "    .dataframe tbody tr th:only-of-type {\n",
       "        vertical-align: middle;\n",
       "    }\n",
       "\n",
       "    .dataframe tbody tr th {\n",
       "        vertical-align: top;\n",
       "    }\n",
       "\n",
       "    .dataframe thead th {\n",
       "        text-align: right;\n",
       "    }\n",
       "</style>\n",
       "<table border=\"1\" class=\"dataframe\">\n",
       "  <thead>\n",
       "    <tr style=\"text-align: right;\">\n",
       "      <th></th>\n",
       "      <th>auction_id</th>\n",
       "      <th>experiment</th>\n",
       "      <th>date</th>\n",
       "      <th>hour</th>\n",
       "      <th>device_make</th>\n",
       "      <th>platform_os</th>\n",
       "      <th>browser</th>\n",
       "      <th>yes</th>\n",
       "      <th>no</th>\n",
       "    </tr>\n",
       "  </thead>\n",
       "  <tbody>\n",
       "    <tr>\n",
       "      <th>16</th>\n",
       "      <td>008aafdf-deef-4482-8fec-d98e3da054da</td>\n",
       "      <td>exposed</td>\n",
       "      <td>2020-07-04</td>\n",
       "      <td>16</td>\n",
       "      <td>Generic Smartphone</td>\n",
       "      <td>6</td>\n",
       "      <td>Chrome Mobile</td>\n",
       "      <td>1</td>\n",
       "      <td>0</td>\n",
       "    </tr>\n",
       "    <tr>\n",
       "      <th>23</th>\n",
       "      <td>00b6fadb-10bd-49e3-a778-290da82f7a8d</td>\n",
       "      <td>control</td>\n",
       "      <td>2020-07-08</td>\n",
       "      <td>4</td>\n",
       "      <td>Samsung SM-A202F</td>\n",
       "      <td>6</td>\n",
       "      <td>Facebook</td>\n",
       "      <td>1</td>\n",
       "      <td>0</td>\n",
       "    </tr>\n",
       "    <tr>\n",
       "      <th>45</th>\n",
       "      <td>018af862-486e-4da1-a85b-71872120e57c</td>\n",
       "      <td>control</td>\n",
       "      <td>2020-07-03</td>\n",
       "      <td>15</td>\n",
       "      <td>Generic Smartphone</td>\n",
       "      <td>6</td>\n",
       "      <td>Chrome Mobile</td>\n",
       "      <td>1</td>\n",
       "      <td>0</td>\n",
       "    </tr>\n",
       "    <tr>\n",
       "      <th>65</th>\n",
       "      <td>023ec7b5-cb8f-49a5-995f-e0d7c2f702e5</td>\n",
       "      <td>exposed</td>\n",
       "      <td>2020-07-09</td>\n",
       "      <td>13</td>\n",
       "      <td>Samsung SM-G935F</td>\n",
       "      <td>6</td>\n",
       "      <td>Facebook</td>\n",
       "      <td>1</td>\n",
       "      <td>0</td>\n",
       "    </tr>\n",
       "    <tr>\n",
       "      <th>89</th>\n",
       "      <td>02efdb70-8596-4f3f-b0b2-b91e194f61f7</td>\n",
       "      <td>exposed</td>\n",
       "      <td>2020-07-05</td>\n",
       "      <td>6</td>\n",
       "      <td>Generic Smartphone</td>\n",
       "      <td>6</td>\n",
       "      <td>Chrome Mobile</td>\n",
       "      <td>1</td>\n",
       "      <td>0</td>\n",
       "    </tr>\n",
       "  </tbody>\n",
       "</table>\n",
       "</div>"
      ]
     },
     "metadata": {},
     "execution_count": 5
    }
   ],
   "metadata": {}
  },
  {
   "cell_type": "code",
   "execution_count": 6,
   "source": [
    "# Identifying the control group\r\n",
    "control_df = get_group(answered_df,from_column='experiment',classification='control')"
   ],
   "outputs": [],
   "metadata": {}
  },
  {
   "cell_type": "code",
   "execution_count": 7,
   "source": [
    "# Identifying the exposed group\r\n",
    "exposed_df = get_group(\r\n",
    "    answered_df, from_column='experiment', classification='exposed')\r\n"
   ],
   "outputs": [],
   "metadata": {}
  },
  {
   "cell_type": "code",
   "execution_count": 8,
   "source": [
    "# Forming a combined DataFrame substituting the yes and no column to response and having only 1 and 0 as values where 1 translates to a yes and 0 to no\r\n",
    "combined_df = get_answered_results_combined(answered_df,'experiment',['control','exposed'],'yes','no')\r\n",
    "combined_df.head(5)"
   ],
   "outputs": [
    {
     "output_type": "execute_result",
     "data": {
      "text/plain": [
       "                             auction_id experiment        date  hour  \\\n",
       "0  e0accc2a-305a-4752-8efd-88f4d24167b0    control  2020-07-08    21   \n",
       "1  8f485c8d-13f9-4562-8d94-b554adfe8c90    exposed  2020-07-03     5   \n",
       "2  8adb388e-2c46-413f-91f7-b24dd5dcb7f3    exposed  2020-07-10     1   \n",
       "3  f3b0d86b-664e-4d88-9416-4351539b5a0a    control  2020-07-03    15   \n",
       "4  ec77e672-dc3d-47ed-9fbb-f9f2a2d71ab7    exposed  2020-07-05     9   \n",
       "\n",
       "          device_make  platform_os                browser  response  \n",
       "0             EVA-L09            6  Chrome Mobile WebView         1  \n",
       "1  Generic Smartphone            6          Chrome Mobile         1  \n",
       "2  Generic Smartphone            6          Chrome Mobile         0  \n",
       "3  Generic Smartphone            6          Chrome Mobile         0  \n",
       "4  Generic Smartphone            6          Chrome Mobile         0  "
      ],
      "text/html": [
       "<div>\n",
       "<style scoped>\n",
       "    .dataframe tbody tr th:only-of-type {\n",
       "        vertical-align: middle;\n",
       "    }\n",
       "\n",
       "    .dataframe tbody tr th {\n",
       "        vertical-align: top;\n",
       "    }\n",
       "\n",
       "    .dataframe thead th {\n",
       "        text-align: right;\n",
       "    }\n",
       "</style>\n",
       "<table border=\"1\" class=\"dataframe\">\n",
       "  <thead>\n",
       "    <tr style=\"text-align: right;\">\n",
       "      <th></th>\n",
       "      <th>auction_id</th>\n",
       "      <th>experiment</th>\n",
       "      <th>date</th>\n",
       "      <th>hour</th>\n",
       "      <th>device_make</th>\n",
       "      <th>platform_os</th>\n",
       "      <th>browser</th>\n",
       "      <th>response</th>\n",
       "    </tr>\n",
       "  </thead>\n",
       "  <tbody>\n",
       "    <tr>\n",
       "      <th>0</th>\n",
       "      <td>e0accc2a-305a-4752-8efd-88f4d24167b0</td>\n",
       "      <td>control</td>\n",
       "      <td>2020-07-08</td>\n",
       "      <td>21</td>\n",
       "      <td>EVA-L09</td>\n",
       "      <td>6</td>\n",
       "      <td>Chrome Mobile WebView</td>\n",
       "      <td>1</td>\n",
       "    </tr>\n",
       "    <tr>\n",
       "      <th>1</th>\n",
       "      <td>8f485c8d-13f9-4562-8d94-b554adfe8c90</td>\n",
       "      <td>exposed</td>\n",
       "      <td>2020-07-03</td>\n",
       "      <td>5</td>\n",
       "      <td>Generic Smartphone</td>\n",
       "      <td>6</td>\n",
       "      <td>Chrome Mobile</td>\n",
       "      <td>1</td>\n",
       "    </tr>\n",
       "    <tr>\n",
       "      <th>2</th>\n",
       "      <td>8adb388e-2c46-413f-91f7-b24dd5dcb7f3</td>\n",
       "      <td>exposed</td>\n",
       "      <td>2020-07-10</td>\n",
       "      <td>1</td>\n",
       "      <td>Generic Smartphone</td>\n",
       "      <td>6</td>\n",
       "      <td>Chrome Mobile</td>\n",
       "      <td>0</td>\n",
       "    </tr>\n",
       "    <tr>\n",
       "      <th>3</th>\n",
       "      <td>f3b0d86b-664e-4d88-9416-4351539b5a0a</td>\n",
       "      <td>control</td>\n",
       "      <td>2020-07-03</td>\n",
       "      <td>15</td>\n",
       "      <td>Generic Smartphone</td>\n",
       "      <td>6</td>\n",
       "      <td>Chrome Mobile</td>\n",
       "      <td>0</td>\n",
       "    </tr>\n",
       "    <tr>\n",
       "      <th>4</th>\n",
       "      <td>ec77e672-dc3d-47ed-9fbb-f9f2a2d71ab7</td>\n",
       "      <td>exposed</td>\n",
       "      <td>2020-07-05</td>\n",
       "      <td>9</td>\n",
       "      <td>Generic Smartphone</td>\n",
       "      <td>6</td>\n",
       "      <td>Chrome Mobile</td>\n",
       "      <td>0</td>\n",
       "    </tr>\n",
       "  </tbody>\n",
       "</table>\n",
       "</div>"
      ]
     },
     "metadata": {},
     "execution_count": 8
    }
   ],
   "metadata": {}
  },
  {
   "cell_type": "markdown",
   "source": [
    "## Testing"
   ],
   "metadata": {}
  },
  {
   "cell_type": "markdown",
   "source": [
    "### Defining our Experiment"
   ],
   "metadata": {}
  },
  {
   "cell_type": "markdown",
   "source": [
    "#### Hypothesis"
   ],
   "metadata": {}
  },
  {
   "cell_type": "markdown",
   "source": [
    "Null Hypothesis: Users who saw the new Ad created by SmartAd dont show no difference in responding to the BIO to the once who saw a static Ad\r\n",
    "HypothesisL Users who saw the new Ad created by SmartAd respond to the BIO quesionare better than users who saw a static Ad"
   ],
   "metadata": {}
  },
  {
   "cell_type": "markdown",
   "source": [
    "Given that we don’t know if the new design will perform better or worse (or the same?) as our current design, we choose a two-tailed test:\r\n",
    "- Hₒ: p = pₒ\r\n",
    "- Hₐ: p ≠ pₒ\r\n",
    "where p and pₒ stand for the conversion rate of the new and old design, respectively. \r\n",
    "We set a confidence level of 95%(1 — α):\r\n",
    "- α = 0.05"
   ],
   "metadata": {}
  },
  {
   "cell_type": "markdown",
   "source": [
    "#### Variables"
   ],
   "metadata": {}
  },
  {
   "cell_type": "markdown",
   "source": [
    "Independent Variables:\r\n",
    "- A control group - They'll be shown the old design\r\n",
    "- A exposed group - They'll be shown the new design"
   ],
   "metadata": {}
  },
  {
   "cell_type": "markdown",
   "source": [
    "Dependent Variable:\r\n",
    "- Response:\r\n",
    "  - 0, indicating the user choose No\r\n",
    "  - 1, indicating the user choose Yes"
   ],
   "metadata": {}
  },
  {
   "cell_type": "markdown",
   "source": [
    "#### Chossing Sample size"
   ],
   "metadata": {}
  },
  {
   "cell_type": "markdown",
   "source": [
    "- We can't choose our own sample because we are already given a sample.\r\n",
    "- We set our Statistical Power = 0.8 or 80% thus B(Beta) = 0.2 or 20%"
   ],
   "metadata": {}
  },
  {
   "cell_type": "markdown",
   "source": [
    "#### Data Preparation"
   ],
   "metadata": {}
  },
  {
   "cell_type": "markdown",
   "source": [
    "- Data is already combined and prepared as seen in the beginning of the file"
   ],
   "metadata": {}
  },
  {
   "cell_type": "code",
   "execution_count": 9,
   "source": [
    "# Check Null Values\r\n",
    "combined_df.info()"
   ],
   "outputs": [
    {
     "output_type": "stream",
     "name": "stdout",
     "text": [
      "<class 'pandas.core.frame.DataFrame'>\n",
      "RangeIndex: 1243 entries, 0 to 1242\n",
      "Data columns (total 8 columns):\n",
      " #   Column       Non-Null Count  Dtype \n",
      "---  ------       --------------  ----- \n",
      " 0   auction_id   1243 non-null   object\n",
      " 1   experiment   1243 non-null   object\n",
      " 2   date         1243 non-null   object\n",
      " 3   hour         1243 non-null   int64 \n",
      " 4   device_make  1243 non-null   object\n",
      " 5   platform_os  1243 non-null   int64 \n",
      " 6   browser      1243 non-null   object\n",
      " 7   response     1243 non-null   int64 \n",
      "dtypes: int64(3), object(5)\n",
      "memory usage: 77.8+ KB\n"
     ]
    }
   ],
   "metadata": {}
  },
  {
   "cell_type": "code",
   "execution_count": 10,
   "source": [
    "# Check Repeted user responses\r\n",
    "print(f'The data has {get_num_of_repetion(combined_df)} repeated users.')"
   ],
   "outputs": [
    {
     "output_type": "stream",
     "name": "stdout",
     "text": [
      "The data has 0 repeated users.\n"
     ]
    }
   ],
   "metadata": {}
  },
  {
   "cell_type": "markdown",
   "source": [
    "### Identifying Conversion Rates"
   ],
   "metadata": {}
  },
  {
   "cell_type": "code",
   "execution_count": 11,
   "source": [
    "# Grouping the dataframe by experiment column and then get response\r\n",
    "conversion_rates = get_conversion_rates(combined_df, grouping_column='experiment',calculation_column='response')\r\n",
    "conversion_rates"
   ],
   "outputs": [
    {
     "output_type": "execute_result",
     "data": {
      "text/plain": [
       "            conversion_rate  std_deviation  std_error\n",
       "experiment                                           \n",
       "control               0.451          0.498      0.021\n",
       "exposed               0.469          0.499      0.019"
      ],
      "text/html": [
       "<div>\n",
       "<style scoped>\n",
       "    .dataframe tbody tr th:only-of-type {\n",
       "        vertical-align: middle;\n",
       "    }\n",
       "\n",
       "    .dataframe tbody tr th {\n",
       "        vertical-align: top;\n",
       "    }\n",
       "\n",
       "    .dataframe thead th {\n",
       "        text-align: right;\n",
       "    }\n",
       "</style>\n",
       "<table border=\"1\" class=\"dataframe\">\n",
       "  <thead>\n",
       "    <tr style=\"text-align: right;\">\n",
       "      <th></th>\n",
       "      <th>conversion_rate</th>\n",
       "      <th>std_deviation</th>\n",
       "      <th>std_error</th>\n",
       "    </tr>\n",
       "    <tr>\n",
       "      <th>experiment</th>\n",
       "      <th></th>\n",
       "      <th></th>\n",
       "      <th></th>\n",
       "    </tr>\n",
       "  </thead>\n",
       "  <tbody>\n",
       "    <tr>\n",
       "      <th>control</th>\n",
       "      <td>0.451</td>\n",
       "      <td>0.498</td>\n",
       "      <td>0.021</td>\n",
       "    </tr>\n",
       "    <tr>\n",
       "      <th>exposed</th>\n",
       "      <td>0.469</td>\n",
       "      <td>0.499</td>\n",
       "      <td>0.019</td>\n",
       "    </tr>\n",
       "  </tbody>\n",
       "</table>\n",
       "</div>"
      ]
     },
     "metadata": {},
     "execution_count": 11
    }
   ],
   "metadata": {}
  },
  {
   "cell_type": "markdown",
   "source": [
    "The Ads performed similary, with our new SmartAd performing slightly better. We have 45.1% on our control group while we have 46.9% on our exposed group."
   ],
   "metadata": {}
  },
  {
   "cell_type": "markdown",
   "source": [
    "#### Plotting the controlled vs treatment group response"
   ],
   "metadata": {}
  },
  {
   "cell_type": "code",
   "execution_count": 12,
   "source": [
    "plt.figure(figsize=(10,6))\r\n",
    "sns.barplot(x=combined_df['experiment'], y=combined_df['response'], ci=False)\r\n",
    "plt.title('Conversion Rate by Group')\r\n",
    "plt.xlabel('Experiment Type')\r\n",
    "plt.ylabel('Response (Proportion)')"
   ],
   "outputs": [
    {
     "output_type": "execute_result",
     "data": {
      "text/plain": [
       "Text(0, 0.5, 'Response (Proportion)')"
      ]
     },
     "metadata": {},
     "execution_count": 12
    },
    {
     "output_type": "display_data",
     "data": {
      "text/plain": [
       "<Figure size 720x432 with 1 Axes>"
      ],
      "image/png": "[encoded data removed]"
     },
     "metadata": {
      "needs_background": "light"
     }
    }
   ],
   "metadata": {}
  },
  {
   "cell_type": "markdown",
   "source": [
    "### Testing the Hypothesis"
   ],
   "metadata": {}
  },
  {
   "cell_type": "code",
   "execution_count": 13,
   "source": [
    "#Defining the control group results\r\n",
    "control_results = get_group_result(combined_df, from_column='experiment', val_type='control',value_column='response')\r\n",
    "#Defining the exposed group results\r\n",
    "exposed_results = get_group_result(combined_df, from_column='experiment', val_type='exposed',value_column='response')"
   ],
   "outputs": [],
   "metadata": {}
  },
  {
   "cell_type": "code",
   "execution_count": 14,
   "source": [
    "#Identifying success and nob list\r\n",
    "successes = form_success(control_results, exposed_results)\r\n",
    "nobs = form_noob(control_results, exposed_results)"
   ],
   "outputs": [],
   "metadata": {}
  },
  {
   "cell_type": "code",
   "execution_count": 15,
   "source": [
    "#Running a z-test\r\n",
    "z_result = run_ztest(successes, nobs=nobs)\r\n",
    "#Getting the lower and upper bounds\r\n",
    "result = get_lower_upper_bounds(successes, nobs=nobs, alpha=0.05)"
   ],
   "outputs": [],
   "metadata": {}
  },
  {
   "cell_type": "code",
   "execution_count": 16,
   "source": [
    "#Printing calculated results\r\n",
    "print_results(ztest_result=z_result, lower_upper_bound_result=result)"
   ],
   "outputs": [
    {
     "output_type": "stream",
     "name": "stdout",
     "text": [
      "z-statistic: -0.646\n",
      "p-value: 0.518\n",
      "ci 95% for control group: [41.02%,49.08%]\n",
      "ci 95% for treatment group: [43.06%,50.70%]\n"
     ]
    }
   ],
   "metadata": {}
  },
  {
   "cell_type": "markdown",
   "source": [
    "### Conclusion"
   ],
   "metadata": {}
  },
  {
   "cell_type": "markdown",
   "source": [
    "- Since our p-value=0.518 is way above our α=0.05 threshold, we cannot reject the Null hypothesis Hₒ, which means that our new design did not perform significantly different or better than our old one.\r\n",
    "- There boundaries also intersect a lot, implying that there is not much of a change."
   ],
   "metadata": {}
  }
 ],
 "metadata": {
  "orig_nbformat": 4,
  "language_info": {
   "name": "python",
   "version": "3.8.4",
   "mimetype": "text/x-python",
   "codemirror_mode": {
    "name": "ipython",
    "version": 3
   },
   "pygments_lexer": "ipython3",
   "nbconvert_exporter": "python",
   "file_extension": ".py"
  },
  "kernelspec": {
   "name": "python3",
   "display_name": "Python 3.8.4 64-bit"
  },
  "interpreter": {
   "hash": "2db524e06e9f5f4ffedc911c917cb75e12dbc923643829bf417064a77eb14d37"
  }
 },
 "nbformat": 4,
 "nbformat_minor": 2
}